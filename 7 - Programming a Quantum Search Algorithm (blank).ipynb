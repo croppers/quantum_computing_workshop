{
 "cells": [
  {
   "cell_type": "markdown",
   "id": "e5ed819f",
   "metadata": {},
   "source": [
    "# Programming a Quantum Search Algorithm\n",
    "\n",
    "(Grover's Algorithm)"
   ]
  },
  {
   "cell_type": "code",
   "execution_count": 1,
   "id": "b640dd5d",
   "metadata": {},
   "outputs": [
    {
     "data": {
      "text/plain": [
       "'\\n+-----------+\\n|00|01|10|11|\\n+-----------+\\n          xx\\n'"
      ]
     },
     "execution_count": 1,
     "metadata": {},
     "output_type": "execute_result"
    }
   ],
   "source": [
    "# Let's search a set of four numbers, looking for 'xx'. How do I find it?\n",
    "\n",
    "\"\"\"\n",
    "+-----------+\n",
    "|00|01|10|11|\n",
    "+-----------+\n",
    "          xx\n",
    "\"\"\"\n",
    "\n",
    "# Classically, this will take N=2 steps maximum. But the grover's algorithm takes sqrt(N)!"
   ]
  },
  {
   "cell_type": "markdown",
   "id": "63d32d55",
   "metadata": {},
   "source": [
    "import the necessary libraries"
   ]
  },
  {
   "cell_type": "code",
   "execution_count": null,
   "id": "76ccb628",
   "metadata": {},
   "outputs": [],
   "source": []
  },
  {
   "cell_type": "markdown",
   "id": "4558e411",
   "metadata": {},
   "source": [
    "constructing the grover circuit"
   ]
  },
  {
   "cell_type": "code",
   "execution_count": null,
   "id": "39789e58",
   "metadata": {},
   "outputs": [],
   "source": []
  },
  {
   "cell_type": "markdown",
   "id": "6f5035b0",
   "metadata": {},
   "source": [
    "build the oracle"
   ]
  },
  {
   "cell_type": "code",
   "execution_count": null,
   "id": "4fc62df9",
   "metadata": {},
   "outputs": [],
   "source": []
  },
  {
   "cell_type": "markdown",
   "id": "e6f12504",
   "metadata": {},
   "source": [
    "build the diffuser"
   ]
  },
  {
   "cell_type": "code",
   "execution_count": null,
   "id": "e0d0e29d",
   "metadata": {},
   "outputs": [],
   "source": []
  },
  {
   "cell_type": "markdown",
   "id": "2b6e473e",
   "metadata": {},
   "source": [
    "place a marker at 11"
   ]
  },
  {
   "cell_type": "code",
   "execution_count": null,
   "id": "e530041c",
   "metadata": {},
   "outputs": [],
   "source": []
  },
  {
   "cell_type": "code",
   "execution_count": null,
   "id": "266b32b0",
   "metadata": {},
   "outputs": [],
   "source": []
  },
  {
   "cell_type": "code",
   "execution_count": null,
   "id": "0b16bfdc",
   "metadata": {},
   "outputs": [],
   "source": []
  }
 ],
 "metadata": {
  "kernelspec": {
   "display_name": "Python 3 (ipykernel)",
   "language": "python",
   "name": "python3"
  },
  "language_info": {
   "codemirror_mode": {
    "name": "ipython",
    "version": 3
   },
   "file_extension": ".py",
   "mimetype": "text/x-python",
   "name": "python",
   "nbconvert_exporter": "python",
   "pygments_lexer": "ipython3",
   "version": "3.9.12"
  }
 },
 "nbformat": 4,
 "nbformat_minor": 5
}
