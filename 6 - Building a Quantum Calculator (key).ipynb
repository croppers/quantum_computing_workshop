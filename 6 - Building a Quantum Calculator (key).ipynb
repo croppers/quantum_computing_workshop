{
 "cells": [
  {
   "cell_type": "markdown",
   "id": "1a8614a0",
   "metadata": {},
   "source": [
    "# Building a Quantum Calculator\n",
    "\n",
    "Important first step: sign-up for IBM Quantum Experience\n",
    "\n",
    "https://quantum-computing.ibm.com/"
   ]
  },
  {
   "cell_type": "code",
   "execution_count": 3,
   "id": "456560c5",
   "metadata": {},
   "outputs": [],
   "source": [
    "from qiskit import QuantumCircuit\n",
    "from qiskit.providers.aer import AerSimulator"
   ]
  },
  {
   "cell_type": "code",
   "execution_count": 19,
   "id": "325f40f5",
   "metadata": {},
   "outputs": [
    {
     "data": {
      "text/html": [
       "<pre style=\"word-wrap: normal;white-space: pre;background: #fff0;line-height: 1.1;font-family: &quot;Courier New&quot;,Courier,monospace\">     ┌─────────────────┐ ░                      \n",
       "q_0: ┤ Initialize(1,0) ├─░───■─────────■────────\n",
       "     ├─────────────────┤ ░   │         │        \n",
       "q_1: ┤ Initialize(0,1) ├─░───┼────■────■────────\n",
       "     └─────────────────┘ ░ ┌─┴─┐┌─┴─┐  │  ┌─┐   \n",
       "q_2: ────────────────────░─┤ X ├┤ X ├──┼──┤M├───\n",
       "                         ░ └───┘└───┘┌─┴─┐└╥┘┌─┐\n",
       "q_3: ────────────────────░───────────┤ X ├─╫─┤M├\n",
       "                         ░           └───┘ ║ └╥┘\n",
       "c: 2/══════════════════════════════════════╩══╩═\n",
       "                                           0  1 </pre>"
      ],
      "text/plain": [
       "     ┌─────────────────┐ ░                      \n",
       "q_0: ┤ Initialize(1,0) ├─░───■─────────■────────\n",
       "     ├─────────────────┤ ░   │         │        \n",
       "q_1: ┤ Initialize(0,1) ├─░───┼────■────■────────\n",
       "     └─────────────────┘ ░ ┌─┴─┐┌─┴─┐  │  ┌─┐   \n",
       "q_2: ────────────────────░─┤ X ├┤ X ├──┼──┤M├───\n",
       "                         ░ └───┘└───┘┌─┴─┐└╥┘┌─┐\n",
       "q_3: ────────────────────░───────────┤ X ├─╫─┤M├\n",
       "                         ░           └───┘ ║ └╥┘\n",
       "c: 2/══════════════════════════════════════╩══╩═\n",
       "                                           0  1 "
      ]
     },
     "execution_count": 19,
     "metadata": {},
     "output_type": "execute_result"
    }
   ],
   "source": [
    "qc = QuantumCircuit(4, 2)\n",
    "\n",
    "initial_state_0 = [1,0] # initial state of qubit 1 is |0>\n",
    "initial_state_1 = [0,1] # initial state of qubit 2 is |1>\n",
    "# so, we expect |0> + |1> = |1>...\n",
    "qc.initialize(initial_state_0, 0) # apply |0> to the first qubit\n",
    "qc.initialize(initial_state_1, 1) # apply |1> to the first qubit\n",
    "qc.save_statevector()\n",
    "\n",
    "qc.cx(0,2) # place a CNOT (XOR) gate controlled by 0, targeting 2\n",
    "qc.cx(1,2) # place a CNOT (XOR) gate controlled by 1, targeting 2\n",
    "qc.ccx(0,1,3) # place a Toffoli (AND) gate (inputs: 0,1 --> output: 3)\n",
    "\n",
    "# measuring stage\n",
    "qc.measure(2,0) # measure qubit 2 at classical bit 0\n",
    "qc.measure(3,1) # measure qubit 3 at classical bit 1\n",
    "qc.draw() # draw the quantum circuit"
   ]
  },
  {
   "cell_type": "code",
   "execution_count": 18,
   "id": "55a126da",
   "metadata": {},
   "outputs": [
    {
     "name": "stdout",
     "output_type": "stream",
     "text": [
      "Result:  {'10': 1024}\n"
     ]
    }
   ],
   "source": [
    "sim = AerSimulator()  # make new simulator object\n",
    "job = sim.run(qc)      # run the experiment\n",
    "result = job.result()  # get the results\n",
    "# interpret the results as a \"counts\" dictionary\n",
    "print(\"Result: \", result.get_counts())"
   ]
  },
  {
   "cell_type": "markdown",
   "id": "68fcb61f",
   "metadata": {},
   "source": [
    "simulators are nice... but how would this result change if we used an actual quantum computer? 😎\n",
    "\n",
    "https://quantum-computing.ibm.com/composer/files/new?initial=N4IgdghgtgpiBcICCATFMBOACAwgSwwGMBXPAFxABoQBHCAZygRAHkAFAUQDkBFJAZQCyWAEwA6AAwBuADpg8YQgBti6LDNowleAEYBGMQsIbZYOTQwwA5lhoBtACwBdU4Us3CdkS7kAPW3YSPmD%2B9nrBhKGBTpQB3q5R4bH28XKEkQFByXZJAQDMwbAMxJZxTlgAtAB8WJ5BpkX0JTD55dW1OS5UIOj0bngADmR4APZgzCAAvkA"
   ]
  }
 ],
 "metadata": {
  "kernelspec": {
   "display_name": "Python 3",
   "language": "python",
   "name": "python3"
  },
  "language_info": {
   "codemirror_mode": {
    "name": "ipython",
    "version": 3
   },
   "file_extension": ".py",
   "mimetype": "text/x-python",
   "name": "python",
   "nbconvert_exporter": "python",
   "pygments_lexer": "ipython3",
   "version": "3.8.10"
  }
 },
 "nbformat": 4,
 "nbformat_minor": 5
}
