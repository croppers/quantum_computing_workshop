{
 "cells": [
  {
   "cell_type": "markdown",
   "id": "ab7be31b",
   "metadata": {},
   "source": [
    "importing the qiskit package"
   ]
  },
  {
   "cell_type": "code",
   "execution_count": null,
   "id": "797bc9ca",
   "metadata": {},
   "outputs": [],
   "source": []
  },
  {
   "cell_type": "markdown",
   "id": "70b2ab8c",
   "metadata": {},
   "source": [
    "# Designing our first quantum circuit"
   ]
  },
  {
   "cell_type": "markdown",
   "id": "9a8c8b82",
   "metadata": {},
   "source": [
    "create a new quantum circuit object with 5 registers"
   ]
  },
  {
   "cell_type": "code",
   "execution_count": null,
   "id": "e1185ebf",
   "metadata": {},
   "outputs": [],
   "source": []
  },
  {
   "cell_type": "markdown",
   "id": "a412722b",
   "metadata": {},
   "source": [
    "add a measurement gate to all registers in the quantum circuit"
   ]
  },
  {
   "cell_type": "code",
   "execution_count": null,
   "id": "7ecaa94a",
   "metadata": {},
   "outputs": [],
   "source": []
  },
  {
   "cell_type": "markdown",
   "id": "710bf43f",
   "metadata": {},
   "source": [
    "draw the resulting quantum circuit"
   ]
  },
  {
   "cell_type": "code",
   "execution_count": null,
   "id": "946bb043",
   "metadata": {},
   "outputs": [],
   "source": []
  },
  {
   "cell_type": "markdown",
   "id": "011d7c1d",
   "metadata": {},
   "source": [
    "# Making our first measurements\n",
    "what do we expect to find?"
   ]
  },
  {
   "cell_type": "code",
   "execution_count": null,
   "id": "823096c9",
   "metadata": {},
   "outputs": [],
   "source": []
  },
  {
   "cell_type": "markdown",
   "id": "80b168df",
   "metadata": {},
   "source": [
    "this is what we expect, since the qbits are not modified before a measurement is taken.\n",
    "\n",
    "*but how will the real result change in a quantum computer compared to our classical simulator?*"
   ]
  }
 ],
 "metadata": {
  "kernelspec": {
   "display_name": "Python 3",
   "language": "python",
   "name": "python3"
  },
  "language_info": {
   "codemirror_mode": {
    "name": "ipython",
    "version": 3
   },
   "file_extension": ".py",
   "mimetype": "text/x-python",
   "name": "python",
   "nbconvert_exporter": "python",
   "pygments_lexer": "ipython3",
   "version": "3.8.10"
  }
 },
 "nbformat": 4,
 "nbformat_minor": 5
}
