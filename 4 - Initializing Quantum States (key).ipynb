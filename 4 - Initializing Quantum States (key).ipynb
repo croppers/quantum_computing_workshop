{
 "cells": [
  {
   "cell_type": "code",
   "execution_count": 1,
   "id": "c016e858",
   "metadata": {},
   "outputs": [],
   "source": [
    "import qiskit\n",
    "import numpy as np"
   ]
  },
  {
   "cell_type": "code",
   "execution_count": 4,
   "id": "ea9e391d-7a00-4620-9035-2544484d8cda",
   "metadata": {},
   "outputs": [],
   "source": [
    "def test(quantum_obj):\n",
    "    # running the quantum circuit on a classical simulator\n",
    "    sim = qiskit.Aer.get_backend('aer_simulator')\n",
    "    result = sim.run(quantum_obj).result()\n",
    "    counts = result.get_counts()\n",
    "    # printing the results\n",
    "    print(counts)\n",
    "    \n",
    "    # visualize the results\n",
    "    return qiskit.visualization.plot_histogram(counts)"
   ]
  },
  {
   "cell_type": "markdown",
   "id": "c990a566",
   "metadata": {},
   "source": [
    "# Initializing a quantum state\n",
    "### classical analogs\n",
    "constructing the circuits"
   ]
  },
  {
   "cell_type": "code",
   "execution_count": 16,
   "id": "806bfcac",
   "metadata": {},
   "outputs": [
    {
     "data": {
      "image/png": "[encoded data removed]",
      "text/plain": [
       "<Figure size 193.726x84.28 with 1 Axes>"
      ]
     },
     "execution_count": 16,
     "metadata": {},
     "output_type": "execute_result"
    }
   ],
   "source": [
    "# |0> : 0\n",
    "qc_0 = qiskit.QuantumCircuit(1) # Q.C. w/ 1 qbit\n",
    "initial_state_0 = [1, 0] # this initial state is |0>\n",
    "qc_0.initialize(initial_state_0, 0) # initialize the qbit to |0>\n",
    "qc_0.save_statevector() # save statevector\n",
    "qc_0.draw() # draw the circuit"
   ]
  },
  {
   "cell_type": "code",
   "execution_count": 17,
   "id": "05d3ddf5-c081-4006-928b-731ea5d154d5",
   "metadata": {},
   "outputs": [
    {
     "data": {
      "image/png": "[encoded data removed]",
      "text/plain": [
       "<Figure size 193.726x84.28 with 1 Axes>"
      ]
     },
     "execution_count": 17,
     "metadata": {},
     "output_type": "execute_result"
    }
   ],
   "source": [
    "# |1> : 1\n",
    "qc_1 = qiskit.QuantumCircuit(1) # Q.C. w/ 1 qbit\n",
    "initial_state_1 = [0, 1] # this initial state is |1>\n",
    "qc_1.initialize(initial_state_1, 0) # initialize the qbit to |0>\n",
    "qc_1.save_statevector() # save statevector\n",
    "qc_1.draw() # draw the circuit"
   ]
  },
  {
   "cell_type": "code",
   "execution_count": 18,
   "id": "a737a988-fbad-48a7-a359-f66bb059bacb",
   "metadata": {},
   "outputs": [],
   "source": [
    "# serializing our quantum circuits to run on the simulator\n",
    "qobj_0 = qiskit.assemble(qc_0)\n",
    "qobj_1 = qiskit.assemble(qc_1)"
   ]
  },
  {
   "cell_type": "markdown",
   "id": "99c42cca",
   "metadata": {},
   "source": [
    "#### making the measurements\n",
    "circuit 0"
   ]
  },
  {
   "cell_type": "code",
   "execution_count": 21,
   "id": "5c2f2783",
   "metadata": {},
   "outputs": [
    {
     "name": "stdout",
     "output_type": "stream",
     "text": [
      "{'0': 1.0}\n"
     ]
    },
    {
     "data": {
      "image/png": "[encoded data removed]",
      "text/plain": [
       "<Figure size 504x360 with 1 Axes>"
      ]
     },
     "execution_count": 21,
     "metadata": {},
     "output_type": "execute_result"
    }
   ],
   "source": [
    "test(qobj_0) # we expect this circuit (|0>) to give 0 (off)"
   ]
  },
  {
   "cell_type": "markdown",
   "id": "0edf521f",
   "metadata": {},
   "source": [
    "circuit 1"
   ]
  },
  {
   "cell_type": "code",
   "execution_count": 22,
   "id": "ddb5dc17",
   "metadata": {},
   "outputs": [
    {
     "name": "stdout",
     "output_type": "stream",
     "text": [
      "{'1': 1.0}\n"
     ]
    },
    {
     "data": {
      "image/png": "[encoded data removed]",
      "text/plain": [
       "<Figure size 504x360 with 1 Axes>"
      ]
     },
     "execution_count": 22,
     "metadata": {},
     "output_type": "execute_result"
    }
   ],
   "source": [
    "test(qobj_1) # we expect this circuit (|1>) to give 1 (on)"
   ]
  },
  {
   "cell_type": "markdown",
   "id": "8d8b0e97",
   "metadata": {},
   "source": [
    "### quantum\n",
    "real values"
   ]
  },
  {
   "cell_type": "code",
   "execution_count": null,
   "id": "4b646c2e",
   "metadata": {},
   "outputs": [],
   "source": []
  },
  {
   "cell_type": "markdown",
   "id": "bbdbdcdc",
   "metadata": {},
   "source": [
    "imaginary values"
   ]
  },
  {
   "cell_type": "code",
   "execution_count": null,
   "id": "13c59943",
   "metadata": {},
   "outputs": [],
   "source": []
  },
  {
   "cell_type": "markdown",
   "id": "716878d3",
   "metadata": {},
   "source": [
    "these probabilities follow the amplitude squared law... *can you invent an initial state and predict its probabilities?*"
   ]
  }
 ],
 "metadata": {
  "kernelspec": {
   "display_name": "Python 3 (ipykernel)",
   "language": "python",
   "name": "python3"
  },
  "language_info": {
   "codemirror_mode": {
    "name": "ipython",
    "version": 3
   },
   "file_extension": ".py",
   "mimetype": "text/x-python",
   "name": "python",
   "nbconvert_exporter": "python",
   "pygments_lexer": "ipython3",
   "version": "3.8.13"
  },
  "widgets": {
   "application/vnd.jupyter.widget-state+json": {
    "state": {},
    "version_major": 2,
    "version_minor": 0
   }
  }
 },
 "nbformat": 4,
 "nbformat_minor": 5
}
