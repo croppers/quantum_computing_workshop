{
 "cells": [
  {
   "cell_type": "markdown",
   "id": "ab7be31b",
   "metadata": {},
   "source": [
    "importing the qiskit package"
   ]
  },
  {
   "cell_type": "code",
   "execution_count": 2,
   "id": "797bc9ca",
   "metadata": {},
   "outputs": [],
   "source": [
    "import qiskit"
   ]
  },
  {
   "cell_type": "markdown",
   "id": "70b2ab8c",
   "metadata": {},
   "source": [
    "# Designing our first quantum circuit"
   ]
  },
  {
   "cell_type": "markdown",
   "id": "9a8c8b82",
   "metadata": {},
   "source": [
    "create a new quantum circuit object with 5 registers"
   ]
  },
  {
   "cell_type": "code",
   "execution_count": 3,
   "id": "e1185ebf",
   "metadata": {},
   "outputs": [],
   "source": [
    "qc_output = qiskit.QuantumCircuit(5)"
   ]
  },
  {
   "cell_type": "markdown",
   "id": "a412722b",
   "metadata": {},
   "source": [
    "add a measurement gate to all registers in the quantum circuit"
   ]
  },
  {
   "cell_type": "code",
   "execution_count": 4,
   "id": "7ecaa94a",
   "metadata": {},
   "outputs": [],
   "source": [
    "qc_output.measure_all()"
   ]
  },
  {
   "cell_type": "markdown",
   "id": "710bf43f",
   "metadata": {},
   "source": [
    "draw the resulting quantum circuit"
   ]
  },
  {
   "cell_type": "code",
   "execution_count": 5,
   "id": "946bb043",
   "metadata": {},
   "outputs": [
    {
     "data": {
      "text/html": [
       "<pre style=\"word-wrap: normal;white-space: pre;background: #fff0;line-height: 1.1;font-family: &quot;Courier New&quot;,Courier,monospace\">           ░ ┌─┐            \n",
       "  q_0: |0>─░─┤M├────────────\n",
       "           ░ └╥┘┌─┐         \n",
       "  q_1: |0>─░──╫─┤M├─────────\n",
       "           ░  ║ └╥┘┌─┐      \n",
       "  q_2: |0>─░──╫──╫─┤M├──────\n",
       "           ░  ║  ║ └╥┘┌─┐   \n",
       "  q_3: |0>─░──╫──╫──╫─┤M├───\n",
       "           ░  ║  ║  ║ └╥┘┌─┐\n",
       "  q_4: |0>─░──╫──╫──╫──╫─┤M├\n",
       "           ░  ║  ║  ║  ║ └╥┘\n",
       "meas: 0 5/════╩══╩══╩══╩══╩═\n",
       "              0  1  2  3  4 </pre>"
      ],
      "text/plain": [
       "           ░ ┌─┐            \n",
       "  q_0: |0>─░─┤M├────────────\n",
       "           ░ └╥┘┌─┐         \n",
       "  q_1: |0>─░──╫─┤M├─────────\n",
       "           ░  ║ └╥┘┌─┐      \n",
       "  q_2: |0>─░──╫──╫─┤M├──────\n",
       "           ░  ║  ║ └╥┘┌─┐   \n",
       "  q_3: |0>─░──╫──╫──╫─┤M├───\n",
       "           ░  ║  ║  ║ └╥┘┌─┐\n",
       "  q_4: |0>─░──╫──╫──╫──╫─┤M├\n",
       "           ░  ║  ║  ║  ║ └╥┘\n",
       "meas: 0 5/════╩══╩══╩══╩══╩═\n",
       "              0  1  2  3  4 "
      ]
     },
     "execution_count": 5,
     "metadata": {},
     "output_type": "execute_result"
    }
   ],
   "source": [
    "qc_output.draw(initial_state=True)"
   ]
  },
  {
   "cell_type": "markdown",
   "id": "011d7c1d",
   "metadata": {},
   "source": [
    "# Making our first measurements\n",
    "what do we expect to find?"
   ]
  },
  {
   "cell_type": "code",
   "execution_count": 6,
   "id": "823096c9",
   "metadata": {},
   "outputs": [
    {
     "name": "stdout",
     "output_type": "stream",
     "text": [
      "{'00000': 1024}\n"
     ]
    },
    {
     "data": {
      "image/png": "[encoded data removed]",
      "text/plain": [
       "<Figure size 504x360 with 1 Axes>"
      ]
     },
     "execution_count": 6,
     "metadata": {},
     "output_type": "execute_result"
    }
   ],
   "source": [
    "sim = qiskit.Aer.get_backend('aer_simulator') # classical simulator\n",
    "result = sim.run(qc_output).result() # run the quantum circuit on our simulator and get the result\n",
    "counts = result.get_counts() # retrieve the counts from the result\n",
    "print(counts) # print out the counts\n",
    "qiskit.visualization.plot_histogram(counts) # plot them using a histogram"
   ]
  },
  {
   "cell_type": "markdown",
   "id": "80b168df",
   "metadata": {},
   "source": [
    "this is what we expect, since the qbits are not modified before a measurement is taken.\n",
    "\n",
    "*but how will the real result change in a quantum computer compared to our classical simulator?*"
   ]
  }
 ],
 "metadata": {
  "kernelspec": {
   "display_name": "Python 3",
   "language": "python",
   "name": "python3"
  },
  "language_info": {
   "codemirror_mode": {
    "name": "ipython",
    "version": 3
   },
   "file_extension": ".py",
   "mimetype": "text/x-python",
   "name": "python",
   "nbconvert_exporter": "python",
   "pygments_lexer": "ipython3",
   "version": "3.8.10"
  }
 },
 "nbformat": 4,
 "nbformat_minor": 5
}
