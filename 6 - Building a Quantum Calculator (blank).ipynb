{
 "cells": [
  {
   "cell_type": "markdown",
   "id": "1a8614a0",
   "metadata": {},
   "source": [
    "# Building a Quantum Calculator\n",
    "\n",
    "Important first step: sign-up for IBM Quantum Experience\n",
    "\n",
    "https://quantum-computing.ibm.com/"
   ]
  },
  {
   "cell_type": "code",
   "execution_count": null,
   "id": "456560c5",
   "metadata": {},
   "outputs": [],
   "source": []
  },
  {
   "cell_type": "code",
   "execution_count": null,
   "id": "325f40f5",
   "metadata": {},
   "outputs": [],
   "source": []
  },
  {
   "cell_type": "code",
   "execution_count": null,
   "id": "55a126da",
   "metadata": {},
   "outputs": [],
   "source": []
  },
  {
   "cell_type": "markdown",
   "id": "68fcb61f",
   "metadata": {},
   "source": [
    "simulators are nice... but how would this result change if we used an actual quantum computer? 😎\n",
    "\n",
    "https://quantum-computing.ibm.com/composer/files/new?initial=N4IgdghgtgpiBcICCATFMBOACAwgSwwGMBXPAFxABoQBHCAZygRAHkAFAUQDkBFJAZQCyWAEwA6AAwBuADpg8YQgBti6LDNowleAEYBGMQsIbZYOTQwwA5lhoBtACwBdU4Us3CdkS7kAPW3YSPmD%2B9nrBhKGBTpQB3q5R4bH28XKEkQFByXZJAQDMwbAMxJZxTlgAtAB8WJ5BpkX0JTD55dW1OS5UIOj0bngADmR4APZgzCAAvkA"
   ]
  }
 ],
 "metadata": {
  "kernelspec": {
   "display_name": "Python 3",
   "language": "python",
   "name": "python3"
  },
  "language_info": {
   "codemirror_mode": {
    "name": "ipython",
    "version": 3
   },
   "file_extension": ".py",
   "mimetype": "text/x-python",
   "name": "python",
   "nbconvert_exporter": "python",
   "pygments_lexer": "ipython3",
   "version": "3.8.10"
  }
 },
 "nbformat": 4,
 "nbformat_minor": 5
}
