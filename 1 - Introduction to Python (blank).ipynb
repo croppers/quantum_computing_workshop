{
 "cells": [
  {
   "cell_type": "markdown",
   "id": "399855b0",
   "metadata": {},
   "source": [
    "# Introduction to Python\n"
   ]
  },
  {
   "cell_type": "markdown",
   "id": "36c4f14a",
   "metadata": {},
   "source": [
    "## Basic Operations"
   ]
  },
  {
   "cell_type": "code",
   "execution_count": null,
   "id": "fc436f9b",
   "metadata": {},
   "outputs": [],
   "source": []
  },
  {
   "cell_type": "markdown",
   "id": "6231669f",
   "metadata": {},
   "source": [
    "It can store variables"
   ]
  },
  {
   "cell_type": "code",
   "execution_count": null,
   "id": "792c292c",
   "metadata": {},
   "outputs": [],
   "source": []
  },
  {
   "cell_type": "markdown",
   "id": "3c049dbe",
   "metadata": {},
   "source": [
    "## Basic Datatypes"
   ]
  },
  {
   "cell_type": "markdown",
   "id": "9cd5c178",
   "metadata": {},
   "source": [
    "It has several datatypes"
   ]
  },
  {
   "cell_type": "code",
   "execution_count": null,
   "id": "1f0dd216",
   "metadata": {},
   "outputs": [],
   "source": []
  },
  {
   "cell_type": "markdown",
   "id": "afa0751a",
   "metadata": {},
   "source": [
    "Accessing values in a list"
   ]
  },
  {
   "cell_type": "code",
   "execution_count": null,
   "id": "b2634af4",
   "metadata": {},
   "outputs": [],
   "source": []
  },
  {
   "cell_type": "markdown",
   "id": "9994c965",
   "metadata": {},
   "source": [
    "## List vs. Tuple"
   ]
  },
  {
   "cell_type": "code",
   "execution_count": null,
   "id": "ae2314f8",
   "metadata": {},
   "outputs": [],
   "source": []
  },
  {
   "cell_type": "markdown",
   "id": "8d35cd25",
   "metadata": {},
   "source": [
    "lists can be edited, but tuples cannot"
   ]
  },
  {
   "cell_type": "code",
   "execution_count": null,
   "id": "120a0fb3",
   "metadata": {},
   "outputs": [],
   "source": []
  },
  {
   "cell_type": "code",
   "execution_count": null,
   "id": "787ac806",
   "metadata": {},
   "outputs": [],
   "source": []
  },
  {
   "cell_type": "markdown",
   "id": "3776fd4c",
   "metadata": {},
   "source": [
    "## Dictionary\n",
    "dictionaries are composed of keys and values"
   ]
  },
  {
   "cell_type": "code",
   "execution_count": null,
   "id": "37412c69",
   "metadata": {},
   "outputs": [],
   "source": []
  },
  {
   "cell_type": "code",
   "execution_count": null,
   "id": "1b893c05",
   "metadata": {},
   "outputs": [],
   "source": []
  },
  {
   "cell_type": "markdown",
   "id": "a2eab944",
   "metadata": {},
   "source": [
    "# Coding Structures\n",
    "\n",
    "if statement"
   ]
  },
  {
   "cell_type": "code",
   "execution_count": null,
   "id": "75b09e1a",
   "metadata": {},
   "outputs": [],
   "source": []
  },
  {
   "cell_type": "markdown",
   "id": "359e280a",
   "metadata": {},
   "source": [
    "for/while loops"
   ]
  },
  {
   "cell_type": "code",
   "execution_count": null,
   "id": "9f3ef84f",
   "metadata": {},
   "outputs": [],
   "source": []
  },
  {
   "cell_type": "code",
   "execution_count": null,
   "id": "e73c706e",
   "metadata": {},
   "outputs": [],
   "source": []
  },
  {
   "cell_type": "markdown",
   "id": "210f4369",
   "metadata": {},
   "source": [
    "functions"
   ]
  },
  {
   "cell_type": "code",
   "execution_count": null,
   "id": "8fe83e62",
   "metadata": {},
   "outputs": [],
   "source": []
  },
  {
   "cell_type": "markdown",
   "id": "926b678e",
   "metadata": {},
   "source": [
    "## Import Statements"
   ]
  },
  {
   "cell_type": "code",
   "execution_count": null,
   "id": "be7e21fd",
   "metadata": {},
   "outputs": [],
   "source": []
  }
 ],
 "metadata": {
  "kernelspec": {
   "display_name": "Python 3",
   "language": "python",
   "name": "python3"
  },
  "language_info": {
   "codemirror_mode": {
    "name": "ipython",
    "version": 3
   },
   "file_extension": ".py",
   "mimetype": "text/x-python",
   "name": "python",
   "nbconvert_exporter": "python",
   "pygments_lexer": "ipython3",
   "version": "3.8.10"
  }
 },
 "nbformat": 4,
 "nbformat_minor": 5
}
