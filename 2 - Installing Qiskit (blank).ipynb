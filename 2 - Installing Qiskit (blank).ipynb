{
 "cells": [
  {
   "cell_type": "markdown",
   "id": "3dcb25a0",
   "metadata": {},
   "source": [
    "# Installing Qiskit\n",
    "first, we need to download the package"
   ]
  },
  {
   "cell_type": "code",
   "execution_count": null,
   "id": "d5cd9ccb",
   "metadata": {
    "scrolled": true
   },
   "outputs": [],
   "source": []
  },
  {
   "cell_type": "markdown",
   "id": "873c645f",
   "metadata": {},
   "source": [
    "it should now show up in the list of installed packages"
   ]
  },
  {
   "cell_type": "code",
   "execution_count": null,
   "id": "0f331d44",
   "metadata": {},
   "outputs": [],
   "source": []
  },
  {
   "cell_type": "markdown",
   "id": "a7398a7b",
   "metadata": {},
   "source": [
    "and we should be able to successfully import qiskit into our code!"
   ]
  },
  {
   "cell_type": "code",
   "execution_count": null,
   "id": "ec81eb66",
   "metadata": {},
   "outputs": [],
   "source": []
  }
 ],
 "metadata": {
  "kernelspec": {
   "display_name": "Python 3",
   "language": "python",
   "name": "python3"
  },
  "language_info": {
   "codemirror_mode": {
    "name": "ipython",
    "version": 3
   },
   "file_extension": ".py",
   "mimetype": "text/x-python",
   "name": "python",
   "nbconvert_exporter": "python",
   "pygments_lexer": "ipython3",
   "version": "3.8.10"
  }
 },
 "nbformat": 4,
 "nbformat_minor": 5
}
