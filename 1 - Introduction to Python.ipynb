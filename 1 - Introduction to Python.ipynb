{
 "cells": [
  {
   "cell_type": "markdown",
   "id": "399855b0",
   "metadata": {},
   "source": [
    "# Introduction to Python\n"
   ]
  },
  {
   "cell_type": "markdown",
   "id": "36c4f14a",
   "metadata": {},
   "source": [
    "## Basic Operations"
   ]
  },
  {
   "cell_type": "code",
   "execution_count": 2,
   "id": "fc436f9b",
   "metadata": {},
   "outputs": [
    {
     "data": {
      "text/plain": [
       "2"
      ]
     },
     "execution_count": 2,
     "metadata": {},
     "output_type": "execute_result"
    }
   ],
   "source": [
    "1 + 1"
   ]
  },
  {
   "cell_type": "markdown",
   "id": "6231669f",
   "metadata": {},
   "source": [
    "It can store variables"
   ]
  },
  {
   "cell_type": "code",
   "execution_count": 4,
   "id": "792c292c",
   "metadata": {},
   "outputs": [
    {
     "data": {
      "text/plain": [
       "15"
      ]
     },
     "execution_count": 4,
     "metadata": {},
     "output_type": "execute_result"
    }
   ],
   "source": [
    "x = 5\n",
    "y = 10\n",
    "\n",
    "x + y"
   ]
  },
  {
   "cell_type": "markdown",
   "id": "3c049dbe",
   "metadata": {},
   "source": [
    "## Basic Datatypes"
   ]
  },
  {
   "cell_type": "markdown",
   "id": "9cd5c178",
   "metadata": {},
   "source": [
    "It has several datatypes"
   ]
  },
  {
   "cell_type": "code",
   "execution_count": 5,
   "id": "1f0dd216",
   "metadata": {},
   "outputs": [],
   "source": [
    "a = 12 # integer\n",
    "b = -14.2 # float\n",
    "c = 'test' # string\n",
    "d = True # boolean\n",
    "e = [1, 2, 3, 4, 5] # list\n",
    "f = None # null"
   ]
  },
  {
   "cell_type": "markdown",
   "id": "afa0751a",
   "metadata": {},
   "source": [
    "Accessing values in a list"
   ]
  },
  {
   "cell_type": "code",
   "execution_count": 9,
   "id": "b2634af4",
   "metadata": {},
   "outputs": [
    {
     "name": "stdout",
     "output_type": "stream",
     "text": [
      "1\n",
      "3\n"
     ]
    }
   ],
   "source": [
    "print(e[0]) # first element\n",
    "print(e[2]) # third element"
   ]
  },
  {
   "cell_type": "markdown",
   "id": "9994c965",
   "metadata": {},
   "source": [
    "## List vs. Tuple"
   ]
  },
  {
   "cell_type": "code",
   "execution_count": 13,
   "id": "ae2314f8",
   "metadata": {},
   "outputs": [],
   "source": [
    "list_example = [1, 2, 3, 4] # this is a list\n",
    "tuple_example = (1, 2, 3, 4) # this is a tuple"
   ]
  },
  {
   "cell_type": "markdown",
   "id": "8d35cd25",
   "metadata": {},
   "source": [
    "lists can be edited, but tuples cannot"
   ]
  },
  {
   "cell_type": "code",
   "execution_count": 11,
   "id": "120a0fb3",
   "metadata": {},
   "outputs": [
    {
     "name": "stdout",
     "output_type": "stream",
     "text": [
      "[1, 2, 3, 12]\n"
     ]
    }
   ],
   "source": [
    "list_example[3] = 12\n",
    "print(list_example)"
   ]
  },
  {
   "cell_type": "code",
   "execution_count": 12,
   "id": "787ac806",
   "metadata": {},
   "outputs": [
    {
     "ename": "TypeError",
     "evalue": "'tuple' object does not support item assignment",
     "output_type": "error",
     "traceback": [
      "\u001b[1;31m---------------------------------------------------------------------------\u001b[0m",
      "\u001b[1;31mTypeError\u001b[0m                                 Traceback (most recent call last)",
      "\u001b[1;32m<ipython-input-12-0ed495ac9cfd>\u001b[0m in \u001b[0;36m<module>\u001b[1;34m\u001b[0m\n\u001b[1;32m----> 1\u001b[1;33m \u001b[0mtuple_example\u001b[0m\u001b[1;33m[\u001b[0m\u001b[1;36m3\u001b[0m\u001b[1;33m]\u001b[0m \u001b[1;33m=\u001b[0m \u001b[1;36m12\u001b[0m\u001b[1;33m\u001b[0m\u001b[1;33m\u001b[0m\u001b[0m\n\u001b[0m",
      "\u001b[1;31mTypeError\u001b[0m: 'tuple' object does not support item assignment"
     ]
    }
   ],
   "source": [
    "tuple_example[3] = 12"
   ]
  },
  {
   "cell_type": "markdown",
   "id": "3776fd4c",
   "metadata": {},
   "source": [
    "## Dictionary\n",
    "dictionaries are composed of keys and values"
   ]
  },
  {
   "cell_type": "code",
   "execution_count": 14,
   "id": "37412c69",
   "metadata": {},
   "outputs": [
    {
     "data": {
      "text/plain": [
       "20"
      ]
     },
     "execution_count": 14,
     "metadata": {},
     "output_type": "execute_result"
    }
   ],
   "source": [
    "dict_obj = {'key1': 1, 'key2': 20}\n",
    "dict_obj['key2']"
   ]
  },
  {
   "cell_type": "code",
   "execution_count": 16,
   "id": "1b893c05",
   "metadata": {},
   "outputs": [
    {
     "data": {
      "text/plain": [
       "5"
      ]
     },
     "execution_count": 16,
     "metadata": {},
     "output_type": "execute_result"
    }
   ],
   "source": [
    "dict_obj['key1'] = 5\n",
    "dict_obj['key1']"
   ]
  },
  {
   "cell_type": "markdown",
   "id": "a2eab944",
   "metadata": {},
   "source": [
    "# Coding Structures\n",
    "\n",
    "if statement"
   ]
  },
  {
   "cell_type": "code",
   "execution_count": 20,
   "id": "75b09e1a",
   "metadata": {},
   "outputs": [
    {
     "name": "stdout",
     "output_type": "stream",
     "text": [
      "banana\n"
     ]
    }
   ],
   "source": [
    "if x+4==10:\n",
    "    print('apple')\n",
    "else:\n",
    "    print('banana')"
   ]
  },
  {
   "cell_type": "markdown",
   "id": "359e280a",
   "metadata": {},
   "source": [
    "for/while loops"
   ]
  },
  {
   "cell_type": "code",
   "execution_count": 21,
   "id": "9f3ef84f",
   "metadata": {},
   "outputs": [
    {
     "name": "stdout",
     "output_type": "stream",
     "text": [
      "0\n",
      "1\n",
      "2\n",
      "3\n",
      "4\n"
     ]
    }
   ],
   "source": [
    "for i in range(5):\n",
    "    print(i)"
   ]
  },
  {
   "cell_type": "code",
   "execution_count": 22,
   "id": "e73c706e",
   "metadata": {},
   "outputs": [
    {
     "name": "stdout",
     "output_type": "stream",
     "text": [
      "0\n",
      "1\n",
      "2\n",
      "3\n",
      "4\n",
      "5\n",
      "6\n",
      "7\n",
      "8\n",
      "9\n"
     ]
    }
   ],
   "source": [
    "count = 0\n",
    "while count<10:\n",
    "    print(count)\n",
    "    count+=1"
   ]
  },
  {
   "cell_type": "markdown",
   "id": "210f4369",
   "metadata": {},
   "source": [
    "functions"
   ]
  },
  {
   "cell_type": "code",
   "execution_count": 24,
   "id": "8fe83e62",
   "metadata": {},
   "outputs": [
    {
     "data": {
      "text/plain": [
       "-10"
      ]
     },
     "execution_count": 24,
     "metadata": {},
     "output_type": "execute_result"
    }
   ],
   "source": [
    "def function_name(input_value):\n",
    "    output_value = input_value*2\n",
    "    return output_value\n",
    "\n",
    "function_name(-5)"
   ]
  },
  {
   "cell_type": "markdown",
   "id": "926b678e",
   "metadata": {},
   "source": [
    "## Import Statements"
   ]
  },
  {
   "cell_type": "code",
   "execution_count": 27,
   "id": "be7e21fd",
   "metadata": {},
   "outputs": [],
   "source": [
    "import numpy as np"
   ]
  },
  {
   "cell_type": "code",
   "execution_count": 33,
   "id": "b00b39de",
   "metadata": {},
   "outputs": [
    {
     "data": {
      "text/plain": [
       "3.141592653589793"
      ]
     },
     "execution_count": 33,
     "metadata": {},
     "output_type": "execute_result"
    }
   ],
   "source": [
    "np.pi"
   ]
  },
  {
   "cell_type": "code",
   "execution_count": 32,
   "id": "3fc376ff",
   "metadata": {},
   "outputs": [
    {
     "data": {
      "text/plain": [
       "0.6502878401571168"
      ]
     },
     "execution_count": 32,
     "metadata": {},
     "output_type": "execute_result"
    }
   ],
   "source": [
    "np.sin(15)"
   ]
  },
  {
   "cell_type": "code",
   "execution_count": 1,
   "id": "b6d27df3",
   "metadata": {},
   "outputs": [
    {
     "ename": "TypeError",
     "evalue": "'int' object is not subscriptable",
     "output_type": "error",
     "traceback": [
      "\u001b[1;31m---------------------------------------------------------------------------\u001b[0m",
      "\u001b[1;31mTypeError\u001b[0m                                 Traceback (most recent call last)",
      "\u001b[1;32m<ipython-input-1-285044bfdbcc>\u001b[0m in \u001b[0;36m<module>\u001b[1;34m\u001b[0m\n\u001b[0;32m      1\u001b[0m \u001b[0mx\u001b[0m \u001b[1;33m=\u001b[0m \u001b[1;36m12345\u001b[0m\u001b[1;33m\u001b[0m\u001b[1;33m\u001b[0m\u001b[0m\n\u001b[1;32m----> 2\u001b[1;33m \u001b[0mx\u001b[0m\u001b[1;33m[\u001b[0m\u001b[1;33m-\u001b[0m\u001b[1;36m1\u001b[0m\u001b[1;33m]\u001b[0m\u001b[1;33m\u001b[0m\u001b[1;33m\u001b[0m\u001b[0m\n\u001b[0m",
      "\u001b[1;31mTypeError\u001b[0m: 'int' object is not subscriptable"
     ]
    }
   ],
   "source": [
    "x = 12345\n",
    "x[-1]"
   ]
  },
  {
   "cell_type": "code",
   "execution_count": null,
   "id": "6e53b784",
   "metadata": {},
   "outputs": [],
   "source": []
  }
 ],
 "metadata": {
  "kernelspec": {
   "display_name": "Python 3",
   "language": "python",
   "name": "python3"
  },
  "language_info": {
   "codemirror_mode": {
    "name": "ipython",
    "version": 3
   },
   "file_extension": ".py",
   "mimetype": "text/x-python",
   "name": "python",
   "nbconvert_exporter": "python",
   "pygments_lexer": "ipython3",
   "version": "3.8.10"
  }
 },
 "nbformat": 4,
 "nbformat_minor": 5
}
