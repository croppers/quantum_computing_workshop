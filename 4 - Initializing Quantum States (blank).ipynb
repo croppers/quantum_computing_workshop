{
 "cells": [
  {
   "cell_type": "code",
   "execution_count": null,
   "id": "c016e858",
   "metadata": {},
   "outputs": [],
   "source": []
  },
  {
   "cell_type": "markdown",
   "id": "c990a566",
   "metadata": {},
   "source": [
    "# Initializing a quantum state\n",
    "### classical\n",
    "constructing the circuits"
   ]
  },
  {
   "cell_type": "code",
   "execution_count": null,
   "id": "806bfcac",
   "metadata": {},
   "outputs": [],
   "source": []
  },
  {
   "cell_type": "markdown",
   "id": "99c42cca",
   "metadata": {},
   "source": [
    "#### making the measurements\n",
    "circuit 0"
   ]
  },
  {
   "cell_type": "code",
   "execution_count": null,
   "id": "5c2f2783",
   "metadata": {},
   "outputs": [],
   "source": []
  },
  {
   "cell_type": "markdown",
   "id": "0edf521f",
   "metadata": {},
   "source": [
    "circuit 1"
   ]
  },
  {
   "cell_type": "code",
   "execution_count": null,
   "id": "ddb5dc17",
   "metadata": {},
   "outputs": [],
   "source": []
  },
  {
   "cell_type": "markdown",
   "id": "8d8b0e97",
   "metadata": {},
   "source": [
    "### quantum\n",
    "real values"
   ]
  },
  {
   "cell_type": "code",
   "execution_count": null,
   "id": "4b646c2e",
   "metadata": {},
   "outputs": [],
   "source": []
  },
  {
   "cell_type": "markdown",
   "id": "bbdbdcdc",
   "metadata": {},
   "source": [
    "imaginary values"
   ]
  },
  {
   "cell_type": "code",
   "execution_count": null,
   "id": "13c59943",
   "metadata": {},
   "outputs": [],
   "source": []
  },
  {
   "cell_type": "markdown",
   "id": "716878d3",
   "metadata": {},
   "source": [
    "these probabilities follow the amplitude squared law... *can you invent an initial state and predict its probabilities?*"
   ]
  }
 ],
 "metadata": {
  "kernelspec": {
   "display_name": "Python 3",
   "language": "python",
   "name": "python3"
  },
  "language_info": {
   "codemirror_mode": {
    "name": "ipython",
    "version": 3
   },
   "file_extension": ".py",
   "mimetype": "text/x-python",
   "name": "python",
   "nbconvert_exporter": "python",
   "pygments_lexer": "ipython3",
   "version": "3.8.10"
  }
 },
 "nbformat": 4,
 "nbformat_minor": 5
}
