{
 "cells": [
  {
   "cell_type": "code",
   "execution_count": null,
   "id": "4f0ecf5c",
   "metadata": {},
   "outputs": [],
   "source": []
  },
  {
   "cell_type": "markdown",
   "id": "1c57bb2d",
   "metadata": {},
   "source": [
    "# classical gates"
   ]
  },
  {
   "cell_type": "markdown",
   "id": "a36638a4",
   "metadata": {},
   "source": [
    "## OR gate\n",
    "\n",
    "*(how is this gate built in a classical computer?)*\n",
    "\n",
    "two connecting wires"
   ]
  },
  {
   "cell_type": "code",
   "execution_count": null,
   "id": "64b8560b",
   "metadata": {},
   "outputs": [],
   "source": []
  },
  {
   "cell_type": "markdown",
   "id": "72f48928",
   "metadata": {},
   "source": [
    "## AND gate\n",
    "\n",
    "*(how is this gate built in a classical computer?)*\n",
    "\n",
    "https://en.wikipedia.org/wiki/Transistor"
   ]
  },
  {
   "cell_type": "code",
   "execution_count": null,
   "id": "b094ce0a",
   "metadata": {},
   "outputs": [],
   "source": []
  },
  {
   "cell_type": "markdown",
   "id": "94e4ae63",
   "metadata": {},
   "source": [
    "## NOT gate\n",
    "\n",
    "*(how is this gate built in a classical computer?)\n",
    "\n",
    "https://en.wikipedia.org/wiki/Inverter_(logic_gate)"
   ]
  },
  {
   "cell_type": "code",
   "execution_count": null,
   "id": "386dba97",
   "metadata": {},
   "outputs": [],
   "source": []
  },
  {
   "cell_type": "markdown",
   "id": "094a7c9a",
   "metadata": {},
   "source": [
    "## XOR gate\n",
    "\n",
    "*(how is this gate built in a classical computer?)*\n",
    "\n",
    "combination of AND, NOT, and OR"
   ]
  },
  {
   "cell_type": "code",
   "execution_count": null,
   "id": "e2eb30fd",
   "metadata": {},
   "outputs": [],
   "source": []
  },
  {
   "cell_type": "markdown",
   "id": "fbdc517a",
   "metadata": {},
   "source": [
    "## x gate (classical: NOT)\n",
    "Features of the NOT gate:\n",
    "* 0 --> 1\n",
    "* 1 --> 0"
   ]
  },
  {
   "cell_type": "code",
   "execution_count": null,
   "id": "e76d883a",
   "metadata": {},
   "outputs": [],
   "source": []
  },
  {
   "cell_type": "code",
   "execution_count": null,
   "id": "f71e292c",
   "metadata": {},
   "outputs": [],
   "source": []
  },
  {
   "cell_type": "markdown",
   "id": "c4254288",
   "metadata": {},
   "source": [
    "## cnot gate (classical: XOR)\n",
    "\n",
    "https://en.wikipedia.org/wiki/Controlled_NOT_gate"
   ]
  },
  {
   "cell_type": "code",
   "execution_count": null,
   "id": "7af8838d",
   "metadata": {},
   "outputs": [],
   "source": []
  },
  {
   "cell_type": "code",
   "execution_count": null,
   "id": "6830edbf",
   "metadata": {},
   "outputs": [],
   "source": []
  },
  {
   "cell_type": "markdown",
   "id": "ece83658",
   "metadata": {},
   "source": [
    "## Toffoli gate (classical: AND)\n",
    "\n",
    "https://en.wikipedia.org/wiki/Toffoli_gate"
   ]
  },
  {
   "cell_type": "code",
   "execution_count": null,
   "id": "c38e731a",
   "metadata": {},
   "outputs": [],
   "source": []
  },
  {
   "cell_type": "code",
   "execution_count": null,
   "id": "9c500927",
   "metadata": {},
   "outputs": [],
   "source": []
  },
  {
   "cell_type": "markdown",
   "id": "6590d8f1",
   "metadata": {},
   "source": [
    "# Hadamard Gate (no classical analog)\n",
    "\n",
    "https://en.wikipedia.org/wiki/Hadamard_transform"
   ]
  },
  {
   "cell_type": "code",
   "execution_count": null,
   "id": "0caebcbf",
   "metadata": {},
   "outputs": [],
   "source": []
  },
  {
   "cell_type": "code",
   "execution_count": null,
   "id": "447467f2",
   "metadata": {},
   "outputs": [],
   "source": []
  },
  {
   "cell_type": "markdown",
   "id": "1496f539",
   "metadata": {},
   "source": [
    "coin toss! (this is a complex problem in classical computing...)"
   ]
  }
 ],
 "metadata": {
  "kernelspec": {
   "display_name": "Python 3",
   "language": "python",
   "name": "python3"
  },
  "language_info": {
   "codemirror_mode": {
    "name": "ipython",
    "version": 3
   },
   "file_extension": ".py",
   "mimetype": "text/x-python",
   "name": "python",
   "nbconvert_exporter": "python",
   "pygments_lexer": "ipython3",
   "version": "3.8.10"
  }
 },
 "nbformat": 4,
 "nbformat_minor": 5
}
