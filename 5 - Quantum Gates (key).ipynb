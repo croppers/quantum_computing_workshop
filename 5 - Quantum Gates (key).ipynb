{
 "cells": [
  {
   "cell_type": "code",
   "execution_count": 24,
   "id": "4f0ecf5c",
   "metadata": {},
   "outputs": [],
   "source": [
    "import qiskit"
   ]
  },
  {
   "cell_type": "markdown",
   "id": "1c57bb2d",
   "metadata": {},
   "source": [
    "# classical gates"
   ]
  },
  {
   "cell_type": "markdown",
   "id": "a36638a4",
   "metadata": {},
   "source": [
    "## OR gate\n",
    "\n",
    "*(how is this gate built in a classical computer?)*\n",
    "\n",
    "two connecting wires"
   ]
  },
  {
   "cell_type": "code",
   "execution_count": 56,
   "id": "64b8560b",
   "metadata": {},
   "outputs": [
    {
     "name": "stdout",
     "output_type": "stream",
     "text": [
      "0\n",
      "1\n",
      "1\n",
      "1\n"
     ]
    }
   ],
   "source": [
    "# inputs | output\n",
    "#  0 | 0 |   0\n",
    "#  0 | 1 |   1\n",
    "#  1 | 0 |   1\n",
    "#  1 | 1 |   1\n",
    "\n",
    "\n",
    "def or_gate(x, y):\n",
    "    return x or y\n",
    "\n",
    "print(or_gate(0,0))\n",
    "print(or_gate(0,1))\n",
    "print(or_gate(1,0))\n",
    "print(or_gate(1,1))"
   ]
  },
  {
   "cell_type": "markdown",
   "id": "72f48928",
   "metadata": {},
   "source": [
    "## AND gate\n",
    "\n",
    "*(how is this gate built in a classical computer?)*\n",
    "\n",
    "https://en.wikipedia.org/wiki/Transistor"
   ]
  },
  {
   "cell_type": "code",
   "execution_count": 27,
   "id": "b094ce0a",
   "metadata": {},
   "outputs": [
    {
     "name": "stdout",
     "output_type": "stream",
     "text": [
      "0\n",
      "0\n",
      "0\n",
      "1\n"
     ]
    }
   ],
   "source": [
    "# inputs | output\n",
    "#  0 | 0 |   0\n",
    "#  0 | 1 |   0\n",
    "#  1 | 0 |   0\n",
    "#  1 | 1 |   1\n",
    "\n",
    "\n",
    "def and_gate(x, y):\n",
    "    return x and y\n",
    "\n",
    "print(and_gate(0,0))\n",
    "print(and_gate(0,1))\n",
    "print(and_gate(1,0))\n",
    "print(and_gate(1,1))"
   ]
  },
  {
   "cell_type": "markdown",
   "id": "94e4ae63",
   "metadata": {},
   "source": [
    "## NOT gate\n",
    "\n",
    "*(how is this gate built in a classical computer?)\n",
    "\n",
    "https://en.wikipedia.org/wiki/Inverter_(logic_gate)"
   ]
  },
  {
   "cell_type": "code",
   "execution_count": 59,
   "id": "386dba97",
   "metadata": {},
   "outputs": [
    {
     "name": "stdout",
     "output_type": "stream",
     "text": [
      "True\n",
      "False\n"
     ]
    }
   ],
   "source": [
    "# input | output\n",
    "#  0    |   1\n",
    "#  1    |   0\n",
    "\n",
    "\n",
    "def not_gate(x):\n",
    "    return not x\n",
    "\n",
    "print(not_gate(0))\n",
    "print(not_gate(1))"
   ]
  },
  {
   "cell_type": "markdown",
   "id": "094a7c9a",
   "metadata": {},
   "source": [
    "## XOR gate\n",
    "\n",
    "*(how is this gate built in a classical computer?)*\n",
    "\n",
    "combination of AND, NOT, and OR"
   ]
  },
  {
   "cell_type": "code",
   "execution_count": 60,
   "id": "e2eb30fd",
   "metadata": {},
   "outputs": [
    {
     "name": "stdout",
     "output_type": "stream",
     "text": [
      "0\n",
      "True\n",
      "True\n",
      "False\n"
     ]
    }
   ],
   "source": [
    "# inputs | output\n",
    "#  0 | 0 |   0\n",
    "#  0 | 1 |   1\n",
    "#  1 | 0 |   1\n",
    "#  1 | 1 |   0\n",
    "\n",
    "\n",
    "def xor_gate(x, y):\n",
    "    return (x or y) and not (x and y)\n",
    "\n",
    "print(xor_gate(0,0))\n",
    "print(xor_gate(0,1))\n",
    "print(xor_gate(1,0))\n",
    "print(xor_gate(1,1))"
   ]
  },
  {
   "cell_type": "markdown",
   "id": "fbdc517a",
   "metadata": {},
   "source": [
    "## x gate (classical: NOT)\n",
    "Features of the NOT gate:\n",
    "* 0 --> 1\n",
    "* 1 --> 0"
   ]
  },
  {
   "cell_type": "code",
   "execution_count": 72,
   "id": "e76d883a",
   "metadata": {},
   "outputs": [
    {
     "data": {
      "text/html": [
       "<pre style=\"word-wrap: normal;white-space: pre;background: #fff0;line-height: 1.1;font-family: &quot;Courier New&quot;,Courier,monospace\">        ┌───┐ ░ ┌─┐\n",
       "     q: ┤ X ├─░─┤M├\n",
       "        └───┘ ░ └╥┘\n",
       "meas: 1/═════════╩═\n",
       "                 0 </pre>"
      ],
      "text/plain": [
       "        ┌───┐ ░ ┌─┐\n",
       "     q: ┤ X ├─░─┤M├\n",
       "        └───┘ ░ └╥┘\n",
       "meas: 1/═════════╩═\n",
       "                 0 "
      ]
     },
     "execution_count": 72,
     "metadata": {},
     "output_type": "execute_result"
    }
   ],
   "source": [
    "qc_x = qiskit.QuantumCircuit(1) # one qbit quantum circuit\n",
    "qc_x.x(0) # x gate on the qbit\n",
    "qc_x.measure_all() # add a measurement gate to the register\n",
    "qc_x.draw() # draw the circuit"
   ]
  },
  {
   "cell_type": "code",
   "execution_count": 73,
   "id": "f71e292c",
   "metadata": {},
   "outputs": [
    {
     "data": {
      "image/png": "[encoded data removed]",
      "text/plain": [
       "<Figure size 504x360 with 1 Axes>"
      ]
     },
     "execution_count": 73,
     "metadata": {},
     "output_type": "execute_result"
    }
   ],
   "source": [
    "def visualize(quantum_circuit):\n",
    "    # run the quantum circuit on the simulator\n",
    "    sim = qiskit.Aer.get_backend('aer_simulator')\n",
    "    result = sim.run(quantum_circuit).result()\n",
    "    counts = result.get_counts()\n",
    "\n",
    "    # visualize the results\n",
    "    return qiskit.visualization.plot_histogram(counts) # plot them using a histogram\n",
    "\n",
    "visualize(qc_x)"
   ]
  },
  {
   "cell_type": "markdown",
   "id": "c4254288",
   "metadata": {},
   "source": [
    "## cnot gate (classical: XOR)\n",
    "\n",
    "https://en.wikipedia.org/wiki/Controlled_NOT_gate"
   ]
  },
  {
   "cell_type": "code",
   "execution_count": 68,
   "id": "7af8838d",
   "metadata": {},
   "outputs": [
    {
     "data": {
      "text/html": [
       "<pre style=\"word-wrap: normal;white-space: pre;background: #fff0;line-height: 1.1;font-family: &quot;Courier New&quot;,Courier,monospace\">        ┌─────────────────┐      ░  ░ ┌─┐   \n",
       "   q_0: ┤ Initialize(1,0) ├──■───░──░─┤M├───\n",
       "        ├─────────────────┤┌─┴─┐ ░  ░ └╥┘┌─┐\n",
       "   q_1: ┤ Initialize(0,1) ├┤ X ├─░──░──╫─┤M├\n",
       "        └─────────────────┘└───┘ ░  ░  ║ └╥┘\n",
       "meas: 2/═══════════════════════════════╩══╩═\n",
       "                                       0  1 </pre>"
      ],
      "text/plain": [
       "        ┌─────────────────┐      ░  ░ ┌─┐   \n",
       "   q_0: ┤ Initialize(1,0) ├──■───░──░─┤M├───\n",
       "        ├─────────────────┤┌─┴─┐ ░  ░ └╥┘┌─┐\n",
       "   q_1: ┤ Initialize(0,1) ├┤ X ├─░──░──╫─┤M├\n",
       "        └─────────────────┘└───┘ ░  ░  ║ └╥┘\n",
       "meas: 2/═══════════════════════════════╩══╩═\n",
       "                                       0  1 "
      ]
     },
     "execution_count": 68,
     "metadata": {},
     "output_type": "execute_result"
    }
   ],
   "source": [
    "qc_cx = qiskit.QuantumCircuit(2)  # Create a quantum circuit with two qubits\n",
    "initial_state_0 = [1,0] # initial state is |0>\n",
    "initial_state_1 = [0,1] # initial state is |1>\n",
    "qc_cx.initialize(initial_state_0, 0) # apply |0> to the first qubit\n",
    "qc_cx.initialize(initial_state_1, 1) # apply |1> to the second qubit\n",
    "qc_cx.cx(0, 1) # add a cnot gate controlled by qubit 0, targeting qubit 1\n",
    "qc_cx.save_statevector()\n",
    "qc_cx.measure_all()\n",
    "qc_cx.draw()  # draw the circuit"
   ]
  },
  {
   "cell_type": "code",
   "execution_count": 66,
   "id": "6830edbf",
   "metadata": {},
   "outputs": [
    {
     "name": "stdout",
     "output_type": "stream",
     "text": [
      "{'01': 1024}\n"
     ]
    }
   ],
   "source": [
    "sim = qiskit.Aer.get_backend('aer_simulator')  # use the classical Aer simulator\n",
    "qobj_cx = qiskit.assemble(qc_cx) # assemble the quantum circuit for processing\n",
    "result = sim.run(qc_cx).result()\n",
    "print(result.get_counts())"
   ]
  },
  {
   "cell_type": "markdown",
   "id": "ece83658",
   "metadata": {},
   "source": [
    "## Toffoli gate (classical: AND)\n",
    "\n",
    "https://en.wikipedia.org/wiki/Toffoli_gate"
   ]
  },
  {
   "cell_type": "code",
   "execution_count": 70,
   "id": "c38e731a",
   "metadata": {},
   "outputs": [
    {
     "data": {
      "text/html": [
       "<pre style=\"word-wrap: normal;white-space: pre;background: #fff0;line-height: 1.1;font-family: &quot;Courier New&quot;,Courier,monospace\">        ┌─────────────────┐      ░  ░ ┌─┐      \n",
       "   q_0: ┤ Initialize(0,1) ├──■───░──░─┤M├──────\n",
       "        ├─────────────────┤  │   ░  ░ └╥┘┌─┐   \n",
       "   q_1: ┤ Initialize(0,1) ├──■───░──░──╫─┤M├───\n",
       "        ├─────────────────┤┌─┴─┐ ░  ░  ║ └╥┘┌─┐\n",
       "   q_2: ┤ Initialize(1,0) ├┤ X ├─░──░──╫──╫─┤M├\n",
       "        └─────────────────┘└───┘ ░  ░  ║  ║ └╥┘\n",
       "meas: 3/═══════════════════════════════╩══╩══╩═\n",
       "                                       0  1  2 </pre>"
      ],
      "text/plain": [
       "        ┌─────────────────┐      ░  ░ ┌─┐      \n",
       "   q_0: ┤ Initialize(0,1) ├──■───░──░─┤M├──────\n",
       "        ├─────────────────┤  │   ░  ░ └╥┘┌─┐   \n",
       "   q_1: ┤ Initialize(0,1) ├──■───░──░──╫─┤M├───\n",
       "        ├─────────────────┤┌─┴─┐ ░  ░  ║ └╥┘┌─┐\n",
       "   q_2: ┤ Initialize(1,0) ├┤ X ├─░──░──╫──╫─┤M├\n",
       "        └─────────────────┘└───┘ ░  ░  ║  ║ └╥┘\n",
       "meas: 3/═══════════════════════════════╩══╩══╩═\n",
       "                                       0  1  2 "
      ]
     },
     "execution_count": 70,
     "metadata": {},
     "output_type": "execute_result"
    }
   ],
   "source": [
    "qc_ccx = qiskit.QuantumCircuit(3)  # Create a quantum circuit with three qubits\n",
    "initial_state_0 = [0,1] # initial state is |1>\n",
    "initial_state_1 = [0,1] # initial state is |1>\n",
    "initial_state_2 = [1,0] # initial state is |0>\n",
    "qc_ccx.initialize(initial_state_0, 0) # apply |1> to the first qubit\n",
    "qc_ccx.initialize(initial_state_1, 1) # apply |1> to the second qubit\n",
    "qc_ccx.initialize(initial_state_2, 2) # apply |0> to the third qubit\n",
    "qc_ccx.ccx(0, 1, 2) # add a ccnot gate controlled by qubits 0 and 1, targeting qubit 2\n",
    "qc_ccx.save_statevector()\n",
    "qc_ccx.measure_all()\n",
    "qc_ccx.draw()  # draw the circuit"
   ]
  },
  {
   "cell_type": "code",
   "execution_count": 71,
   "id": "9c500927",
   "metadata": {},
   "outputs": [
    {
     "name": "stdout",
     "output_type": "stream",
     "text": [
      "{'111': 1024}\n"
     ]
    }
   ],
   "source": [
    "sim = qiskit.Aer.get_backend('aer_simulator')  # use the classical Aer simulator\n",
    "qobj_ccx = qiskit.assemble(qc_ccx) # assemble the quantum circuit for processing\n",
    "result = sim.run(qc_ccx).result()\n",
    "print(result.get_counts())"
   ]
  },
  {
   "cell_type": "markdown",
   "id": "6590d8f1",
   "metadata": {},
   "source": [
    "# Hadamard Gate (no classical analog)\n",
    "\n",
    "https://en.wikipedia.org/wiki/Hadamard_transform"
   ]
  },
  {
   "cell_type": "code",
   "execution_count": 75,
   "id": "0caebcbf",
   "metadata": {},
   "outputs": [
    {
     "data": {
      "text/html": [
       "<pre style=\"word-wrap: normal;white-space: pre;background: #fff0;line-height: 1.1;font-family: &quot;Courier New&quot;,Courier,monospace\">        ┌───┐ ░ ┌─┐\n",
       "     q: ┤ H ├─░─┤M├\n",
       "        └───┘ ░ └╥┘\n",
       "meas: 1/═════════╩═\n",
       "                 0 </pre>"
      ],
      "text/plain": [
       "        ┌───┐ ░ ┌─┐\n",
       "     q: ┤ H ├─░─┤M├\n",
       "        └───┘ ░ └╥┘\n",
       "meas: 1/═════════╩═\n",
       "                 0 "
      ]
     },
     "execution_count": 75,
     "metadata": {},
     "output_type": "execute_result"
    }
   ],
   "source": [
    "qc_h = qiskit.QuantumCircuit(1)  # Create a quantum circuit with one qubit\n",
    "qc_h.h(0) # add a Hadamard (H) gate to the qubit\n",
    "qc_h.measure_all()\n",
    "qc_h.draw()  # draw the circuit"
   ]
  },
  {
   "cell_type": "code",
   "execution_count": 76,
   "id": "447467f2",
   "metadata": {},
   "outputs": [
    {
     "name": "stdout",
     "output_type": "stream",
     "text": [
      "{'0': 530, '1': 494}\n"
     ]
    }
   ],
   "source": [
    "sim = qiskit.Aer.get_backend('aer_simulator')  # use the classical Aer simulator\n",
    "qobj_h = qiskit.assemble(qc_h) # assemble the quantum circuit for processing\n",
    "result = sim.run(qc_h).result()\n",
    "print(result.get_counts())"
   ]
  },
  {
   "cell_type": "markdown",
   "id": "1496f539",
   "metadata": {},
   "source": [
    "coin toss! (this is a complex problem in classical computing...)"
   ]
  }
 ],
 "metadata": {
  "kernelspec": {
   "display_name": "Python 3",
   "language": "python",
   "name": "python3"
  },
  "language_info": {
   "codemirror_mode": {
    "name": "ipython",
    "version": 3
   },
   "file_extension": ".py",
   "mimetype": "text/x-python",
   "name": "python",
   "nbconvert_exporter": "python",
   "pygments_lexer": "ipython3",
   "version": "3.8.10"
  }
 },
 "nbformat": 4,
 "nbformat_minor": 5
}
