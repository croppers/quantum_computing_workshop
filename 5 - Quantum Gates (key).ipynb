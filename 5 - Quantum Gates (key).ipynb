{
 "cells": [
  {
   "cell_type": "code",
   "execution_count": 1,
   "id": "4f0ecf5c",
   "metadata": {},
   "outputs": [],
   "source": [
    "import qiskit"
   ]
  },
  {
   "cell_type": "markdown",
   "id": "1c57bb2d",
   "metadata": {},
   "source": [
    "# classical gates"
   ]
  },
  {
   "cell_type": "markdown",
   "id": "a36638a4",
   "metadata": {},
   "source": [
    "## OR gate\n",
    "\n",
    "*(how is this gate built in a classical computer?)*"
   ]
  },
  {
   "cell_type": "code",
   "execution_count": 3,
   "id": "64b8560b",
   "metadata": {},
   "outputs": [
    {
     "name": "stdout",
     "output_type": "stream",
     "text": [
      "1\n",
      "1\n",
      "1\n",
      "0\n"
     ]
    }
   ],
   "source": [
    "# inputs (2) | output\n",
    "#  0   |  1  |   1\n",
    "#  1   |  0  |   1\n",
    "#  1   |  1  |   1\n",
    "#  0   |  0  |   0\n",
    "\n",
    "#  OR gate in a computer\n",
    "#   input 1-------|\n",
    "#                 |----------output\n",
    "#   input 2-------|\n",
    "\n",
    "\n",
    "# function example\n",
    "\n",
    "def or_gate(x,y): # inputs are x and y\n",
    "    return x or y # output\n",
    "\n",
    "print(or_gate(0,1))\n",
    "print(or_gate(1,0))\n",
    "print(or_gate(1,1))\n",
    "print(or_gate(0,0))\n"
   ]
  },
  {
   "cell_type": "markdown",
   "id": "72f48928",
   "metadata": {},
   "source": [
    "## AND gate\n",
    "\n",
    "*(how is this gate built in a classical computer?)*"
   ]
  },
  {
   "cell_type": "code",
   "execution_count": 5,
   "id": "b094ce0a",
   "metadata": {},
   "outputs": [
    {
     "name": "stdout",
     "output_type": "stream",
     "text": [
      "0\n",
      "0\n",
      "1\n",
      "0\n"
     ]
    }
   ],
   "source": [
    "# inputs (2) | output\n",
    "#  0   |  1  |   0\n",
    "#  1   |  0  |   0\n",
    "#  1   |  1  |   1\n",
    "#  0   |  0  |   0\n",
    "\n",
    "# function example\n",
    "\n",
    "def and_gate(x,y): # inputs are x and y\n",
    "    return x and y # output\n",
    "\n",
    "print(and_gate(0,1))\n",
    "print(and_gate(1,0))\n",
    "print(and_gate(1,1))\n",
    "print(and_gate(0,0))"
   ]
  },
  {
   "cell_type": "markdown",
   "id": "94e4ae63",
   "metadata": {},
   "source": [
    "## NOT gate\n",
    "\n",
    "*(how is this gate built in a classical computer?)"
   ]
  },
  {
   "cell_type": "code",
   "execution_count": 6,
   "id": "386dba97",
   "metadata": {},
   "outputs": [
    {
     "name": "stdout",
     "output_type": "stream",
     "text": [
      "True\n",
      "False\n"
     ]
    }
   ],
   "source": [
    "# input (1) | output\n",
    "#     0     |   1\n",
    "#     1     |   0\n",
    "\n",
    "\n",
    "# function example\n",
    "\n",
    "def not_gate(x): # input is x\n",
    "    return not x # output\n",
    "\n",
    "print(not_gate(0))\n",
    "print(not_gate(1))"
   ]
  },
  {
   "cell_type": "markdown",
   "id": "094a7c9a",
   "metadata": {},
   "source": [
    "## XOR gate\n",
    "\n",
    "*(how is this gate built in a classical computer?)*"
   ]
  },
  {
   "cell_type": "code",
   "execution_count": 8,
   "id": "e2eb30fd",
   "metadata": {},
   "outputs": [
    {
     "name": "stdout",
     "output_type": "stream",
     "text": [
      "0\n",
      "True\n",
      "True\n",
      "False\n"
     ]
    }
   ],
   "source": [
    "# inputs (2) | output\n",
    "#  0   |  1  |   1\n",
    "#  1   |  0  |   1\n",
    "#  1   |  1  |   0\n",
    "#  0   |  0  |   0\n",
    "\n",
    "# function example\n",
    "\n",
    "def xor_gate(x,y): # inputs are x and y\n",
    "    return (x or y) and not (x and y) # output\n",
    "\n",
    "print(xor_gate(0,0))\n",
    "print(xor_gate(0,1))\n",
    "print(xor_gate(1,0))\n",
    "print(xor_gate(1,1))"
   ]
  },
  {
   "cell_type": "markdown",
   "id": "fbdc517a",
   "metadata": {},
   "source": [
    "## x gate (classical: NOT)\n",
    "Features of the NOT gate:\n",
    "* |0> --> |1>\n",
    "* |1> --> |0>"
   ]
  },
  {
   "cell_type": "code",
   "execution_count": 11,
   "id": "08eb7ee8-187b-4ac8-b13c-305cda5bda91",
   "metadata": {},
   "outputs": [],
   "source": [
    "def test(qc):\n",
    "    quantum_obj = qiskit.assemble(qc)\n",
    "    # running the quantum circuit on a classical simulator\n",
    "    sim = qiskit.Aer.get_backend('aer_simulator')\n",
    "    result = sim.run(quantum_obj).result()\n",
    "    counts = result.get_counts()\n",
    "    # printing the results\n",
    "    print(counts)\n",
    "    \n",
    "    # visualize the results\n",
    "    return qiskit.visualization.plot_histogram(counts)"
   ]
  },
  {
   "cell_type": "code",
   "execution_count": 13,
   "id": "e76d883a",
   "metadata": {},
   "outputs": [
    {
     "data": {
      "image/png": "[encoded data removed]",
      "text/plain": [
       "<Figure size 357.679x144.48 with 1 Axes>"
      ]
     },
     "execution_count": 13,
     "metadata": {},
     "output_type": "execute_result"
    }
   ],
   "source": [
    "qc_x = qiskit.QuantumCircuit(1) # one qbit circuit\n",
    "qc_x.x(0) # apply the x gate to the first (0-index) qbit\n",
    "qc_x.x(0) # apply the x gate to the first (0-index) qbit\n",
    "qc_x.measure_all() # measure the outcome with a classical bit\n",
    "qc_x.draw() # draw the resulting circuit"
   ]
  },
  {
   "cell_type": "code",
   "execution_count": 14,
   "id": "f71e292c",
   "metadata": {},
   "outputs": [
    {
     "name": "stdout",
     "output_type": "stream",
     "text": [
      "{'0': 1024}\n"
     ]
    },
    {
     "data": {
      "image/png": "[encoded data removed]",
      "text/plain": [
       "<Figure size 504x360 with 1 Axes>"
      ]
     },
     "execution_count": 14,
     "metadata": {},
     "output_type": "execute_result"
    }
   ],
   "source": [
    "test(qc_x)"
   ]
  },
  {
   "cell_type": "markdown",
   "id": "c4254288",
   "metadata": {},
   "source": [
    "## cnot gate (classical: XOR)\n",
    "\n",
    "https://en.wikipedia.org/wiki/Controlled_NOT_gate"
   ]
  },
  {
   "cell_type": "code",
   "execution_count": 20,
   "id": "7af8838d",
   "metadata": {},
   "outputs": [
    {
     "data": {
      "image/png": "[encoded data removed]",
      "text/plain": [
       "<Figure size 478.079x204.68 with 1 Axes>"
      ]
     },
     "execution_count": 20,
     "metadata": {},
     "output_type": "execute_result"
    }
   ],
   "source": [
    "qc_cx = qiskit.QuantumCircuit(2) # we need two qbits\n",
    "initial_state_0 = [1, 0] # we'll put the first qbit into state |0>\n",
    "initial_state_1 = [0, 1] # we'll put the second qbit into state |1>\n",
    "qc_cx.initialize(initial_state_0, 0) # initialize the first qbit to |0>\n",
    "qc_cx.initialize(initial_state_1, 1) # initialize the second qbit to |1>\n",
    "qc_cx.cx(0, 1) # apply a CNOT gate that is controlled by 0 and targets 1\n",
    "\n",
    "# \"targets 1\": the CNOT gate will record its output on the second qbit (q1)\n",
    "\n",
    "qc_cx.save_statevector()\n",
    "qc_cx.measure_all()\n",
    "qc_cx.draw()"
   ]
  },
  {
   "cell_type": "code",
   "execution_count": 19,
   "id": "6830edbf",
   "metadata": {},
   "outputs": [
    {
     "name": "stdout",
     "output_type": "stream",
     "text": [
      "{'00': 1024}\n"
     ]
    },
    {
     "data": {
      "image/png": "[encoded data removed]",
      "text/plain": [
       "<Figure size 504x360 with 1 Axes>"
      ]
     },
     "execution_count": 19,
     "metadata": {},
     "output_type": "execute_result"
    }
   ],
   "source": [
    "test(qc_cx)"
   ]
  },
  {
   "cell_type": "markdown",
   "id": "ece83658",
   "metadata": {},
   "source": [
    "## Toffoli gate (classical: AND)\n",
    "\n",
    "https://en.wikipedia.org/wiki/Toffoli_gate"
   ]
  },
  {
   "cell_type": "code",
   "execution_count": 21,
   "id": "c38e731a",
   "metadata": {},
   "outputs": [
    {
     "data": {
      "image/png": "[encoded data removed]",
      "text/plain": [
       "<Figure size 538.279x264.88 with 1 Axes>"
      ]
     },
     "execution_count": 21,
     "metadata": {},
     "output_type": "execute_result"
    }
   ],
   "source": [
    "qc = qiskit.QuantumCircuit(3)\n",
    "initial_state_0 = [1, 0] # start with |0>\n",
    "initial_state_1 = [0, 1] # start with |1>\n",
    "initial_state_2 = [1, 0] # start with |0>\n",
    "\n",
    "qc.initialize(initial_state_0, 0)\n",
    "qc.initialize(initial_state_1, 1)\n",
    "qc.initialize(initial_state_2, 2)\n",
    "qc.save_statevector()\n",
    "\n",
    "qc.ccx(0, 1, 2) # applies the Toffoli (aka AND) gate, controlled by qbits 0 and 1, targeting qbit 2\n",
    "qc.measure_all()\n",
    "qc.draw()"
   ]
  },
  {
   "cell_type": "code",
   "execution_count": 22,
   "id": "9c500927",
   "metadata": {},
   "outputs": [
    {
     "name": "stdout",
     "output_type": "stream",
     "text": [
      "{'010': 1024}\n"
     ]
    },
    {
     "data": {
      "image/png": "[encoded data removed]",
      "text/plain": [
       "<Figure size 504x360 with 1 Axes>"
      ]
     },
     "execution_count": 22,
     "metadata": {},
     "output_type": "execute_result"
    }
   ],
   "source": [
    "test(qc)"
   ]
  },
  {
   "cell_type": "markdown",
   "id": "6590d8f1",
   "metadata": {},
   "source": [
    "# Hadamard Gate (no classical analog)\n",
    "\n",
    "https://en.wikipedia.org/wiki/Hadamard_transform"
   ]
  },
  {
   "cell_type": "code",
   "execution_count": 23,
   "id": "0caebcbf",
   "metadata": {},
   "outputs": [
    {
     "data": {
      "image/png": "[encoded data removed]",
      "text/plain": [
       "<Figure size 297.479x144.48 with 1 Axes>"
      ]
     },
     "execution_count": 23,
     "metadata": {},
     "output_type": "execute_result"
    }
   ],
   "source": [
    "qc_h = qiskit.QuantumCircuit(1) # a quantum circuit with just one qbit\n",
    "qc_h.h(0) # put in a Hadamard gate at q0\n",
    "qc_h.measure_all()\n",
    "qc_h.draw()"
   ]
  },
  {
   "cell_type": "code",
   "execution_count": 27,
   "id": "447467f2",
   "metadata": {},
   "outputs": [
    {
     "name": "stdout",
     "output_type": "stream",
     "text": [
      "{'1': 494, '0': 530}\n"
     ]
    },
    {
     "data": {
      "image/png": "[encoded data removed]",
      "text/plain": [
       "<Figure size 504x360 with 1 Axes>"
      ]
     },
     "execution_count": 27,
     "metadata": {},
     "output_type": "execute_result"
    }
   ],
   "source": [
    "test(qc_h) # this result represents the |+> state with 50/50 chances of 0 or 1 on the classical bit"
   ]
  },
  {
   "cell_type": "markdown",
   "id": "1496f539",
   "metadata": {},
   "source": [
    "coin toss! (this is a complex problem in classical computing...)"
   ]
  }
 ],
 "metadata": {
  "kernelspec": {
   "display_name": "Python 3 (ipykernel)",
   "language": "python",
   "name": "python3"
  },
  "language_info": {
   "codemirror_mode": {
    "name": "ipython",
    "version": 3
   },
   "file_extension": ".py",
   "mimetype": "text/x-python",
   "name": "python",
   "nbconvert_exporter": "python",
   "pygments_lexer": "ipython3",
   "version": "3.8.13"
  },
  "widgets": {
   "application/vnd.jupyter.widget-state+json": {
    "state": {},
    "version_major": 2,
    "version_minor": 0
   }
  }
 },
 "nbformat": 4,
 "nbformat_minor": 5
}
